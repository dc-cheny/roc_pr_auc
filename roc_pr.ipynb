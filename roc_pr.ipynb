{
 "cells": [
  {
   "cell_type": "markdown",
   "metadata": {},
   "source": [
    "### roc: x--FPR, y--TPR\n",
    "### pr: x--recall, y--precision\n",
    "### auc: 曲线下面积占总方格面积的比例"
   ]
  },
  {
   "cell_type": "markdown",
   "metadata": {},
   "source": [
    "#### if recal != 0, roc和pr曲线可以相互转换"
   ]
  },
  {
   "cell_type": "code",
   "execution_count": 17,
   "metadata": {},
   "outputs": [],
   "source": [
    "# -*- coding: utf-8 -*-\n",
    "\n",
    "import numpy as np\n",
    "import matplotlib.pyplot as plt\n",
    "from sklearn import svm, datasets\n",
    "from sklearn.metrics import roc_curve, auc  ###计算roc和auc\n",
    "from sklearn.model_selection import train_test_split\n",
    "\n",
    "# Import some data to play with\n",
    "iris = datasets.load_iris()\n",
    "X = iris.data\n",
    "y = iris.target\n",
    "\n",
    "##变为2分类\n",
    "X, y = X[y != 2], y[y != 2]"
   ]
  },
  {
   "cell_type": "code",
   "execution_count": 18,
   "metadata": {},
   "outputs": [],
   "source": [
    "# Add noisy features to make the problem harder\n",
    "random_state = np.random.RandomState(0)\n",
    "n_samples, n_features = X.shape\n",
    "X = np.c_[X, random_state.randn(n_samples, 200 * n_features)] # generate 800 cols randomly and concat it with origin\n",
    "\n",
    "# shuffle and split training and test sets\n",
    "X_train, X_test, y_train, y_test = train_test_split(X, y, test_size=.3,random_state=0)\n",
    "\n",
    "# Learn to predict each class against the other\n",
    "svm = svm.SVC(kernel='linear', probability=True, random_state=random_state)\n",
    "\n",
    "###通过decision_function()计算得到的y_score的值，用在roc_curve()函数中\n",
    "y_score = svm.fit(X_train, y_train).decision_function(X_test)"
   ]
  },
  {
   "cell_type": "code",
   "execution_count": 22,
   "metadata": {},
   "outputs": [
    {
     "data": {
      "text/plain": [
       "(array([0, 1, 0, 1, 1, 1, 0, 1, 1, 1, 1, 1, 1, 0, 0, 0, 0, 0, 0, 0, 0, 1,\n",
       "        0, 1, 0, 0, 0, 1, 1, 1]),\n",
       " array([ 0.17284263,  0.65445393, -0.54087101,  0.3555818 ,  0.00579262,\n",
       "        -0.20174248,  0.0565328 ,  0.00571205, -0.1517872 ,  0.25656427,\n",
       "         0.39764688,  0.04549989,  0.33455816, -0.12499602,  0.23724787,\n",
       "        -0.36250412, -0.0874348 , -0.11575856, -0.25270656, -0.23457408,\n",
       "        -0.18239472, -0.10728706, -0.32201471,  0.71954289, -0.29292995,\n",
       "        -0.22073314, -0.32473373, -0.19383585, -0.24296148,  0.37524795]))"
      ]
     },
     "execution_count": 22,
     "metadata": {},
     "output_type": "execute_result"
    }
   ],
   "source": [
    "y_test, y_score"
   ]
  },
  {
   "cell_type": "code",
   "execution_count": 48,
   "metadata": {},
   "outputs": [],
   "source": [
    "def my_decision_func(v, threshold):\n",
    "    return 1 if v >= threshold else 0\n",
    "\n",
    "def my_roc_curve(y_test, y_score):\n",
    "    \"\"\"\n",
    "    actually, there already exists a function to calc fpr, tpr, threshold and auc.\n",
    "    usage:\n",
    "    from sklearn.metrics import roc_curve, auc\n",
    "    fpr, tpr, threshold = roc_curve(y_test, y_score)\n",
    "    roc_auc = auc(fpr, tpr) ###计算auc的值\n",
    "    \n",
    "    ps: some exceptions have not been taken into consideration because it's just a trail! :-)\n",
    "    \"\"\"\n",
    "    y_score_max, y_score_min = y_score.max(), y_score.min()\n",
    "    gap = (y_score_max - y_score_min) / 10\n",
    "    threshold = np.arange(y_score_min - gap * 2, y_score_max + gap * 2, gap) # init a threshold list\n",
    "    fpr = np.array([]) # false positive rate\n",
    "    tpr = np.array([]) # true positive rate\n",
    "    \n",
    "    for th in threshold:\n",
    "        fn = 0\n",
    "        fp = 0\n",
    "        tp = 0\n",
    "        tn = 0\n",
    "        \n",
    "        for i in range(len(y_score)):\n",
    "            if y_test[i] == 1:\n",
    "                #print(y_score[i])\n",
    "                if my_decision_func(y_score[i], th) == y_test[i]:\n",
    "                    tp += 1\n",
    "                elif my_decision_func(y_score[i], th) != y_test[i]:\n",
    "                    fp += 1\n",
    "            elif y_test[i] == 0:\n",
    "                #print(y_score[i])\n",
    "                if my_decision_func(y_score[i], th) == y_test[i]:\n",
    "                    tn += 1\n",
    "                elif my_decision_func(y_score[i], th) != y_test[i]:\n",
    "                    fn += 1\n",
    "        \n",
    "        fpr = np.append(fpr, fp / (fp + tn) if fp + tn > 0 else 0)\n",
    "        tpr = np.append(tpr, tp / (tp + fn) if tp + fn > 0 else 0)\n",
    "            \n",
    "    return fpr, tpr, threshold"
   ]
  },
  {
   "cell_type": "code",
   "execution_count": 49,
   "metadata": {},
   "outputs": [
    {
     "data": {
      "text/plain": [
       "(array([0.        , 0.        , 0.        , 0.        , 0.        ,\n",
       "        0.25      , 0.29411765, 0.38095238, 0.36363636, 0.4       ,\n",
       "        0.46428571, 0.46428571, 0.5       , 0.5       ]),\n",
       " array([0.5       , 0.5       , 0.5       , 0.51724138, 0.6       ,\n",
       "        0.66666667, 0.76923077, 0.77777778, 0.875     , 1.        ,\n",
       "        1.        , 1.        , 0.        , 0.        ]),\n",
       " array([-0.79295379, -0.6669124 , -0.54087101, -0.41482962, -0.28878823,\n",
       "        -0.16274684, -0.03670545,  0.08933594,  0.21537733,  0.34141872,\n",
       "         0.46746011,  0.5935015 ,  0.71954289,  0.84558428]))"
      ]
     },
     "execution_count": 49,
     "metadata": {},
     "output_type": "execute_result"
    }
   ],
   "source": [
    "# constrast\n",
    "my_roc_curve(y_test, y_score)"
   ]
  },
  {
   "cell_type": "code",
   "execution_count": 50,
   "metadata": {},
   "outputs": [
    {
     "data": {
      "text/plain": [
       "(array([0.        , 0.        , 0.        , 0.2       , 0.2       ,\n",
       "        0.26666667, 0.26666667, 0.4       , 0.4       , 0.46666667,\n",
       "        0.46666667, 0.6       , 0.6       , 1.        ]),\n",
       " array([0.        , 0.06666667, 0.46666667, 0.46666667, 0.66666667,\n",
       "        0.66666667, 0.73333333, 0.73333333, 0.8       , 0.8       ,\n",
       "        0.93333333, 0.93333333, 1.        , 1.        ]),\n",
       " array([ 1.71954289,  0.71954289,  0.25656427,  0.0565328 ,  0.00571205,\n",
       "        -0.0874348 , -0.10728706, -0.12499602, -0.1517872 , -0.18239472,\n",
       "        -0.20174248, -0.23457408, -0.24296148, -0.54087101]))"
      ]
     },
     "execution_count": 50,
     "metadata": {},
     "output_type": "execute_result"
    }
   ],
   "source": [
    "fpr, tpr, threshold = roc_curve(y_test, y_score)\n",
    "roc_auc = auc(fpr, tpr)\n",
    "fpr, tpr, threshold"
   ]
  },
  {
   "cell_type": "code",
   "execution_count": null,
   "metadata": {},
   "outputs": [],
   "source": []
  }
 ],
 "metadata": {
  "kernelspec": {
   "display_name": "Python [conda env:root] *",
   "language": "python",
   "name": "conda-root-py"
  },
  "language_info": {
   "codemirror_mode": {
    "name": "ipython",
    "version": 3
   },
   "file_extension": ".py",
   "mimetype": "text/x-python",
   "name": "python",
   "nbconvert_exporter": "python",
   "pygments_lexer": "ipython3",
   "version": "3.7.2"
  }
 },
 "nbformat": 4,
 "nbformat_minor": 2
}
